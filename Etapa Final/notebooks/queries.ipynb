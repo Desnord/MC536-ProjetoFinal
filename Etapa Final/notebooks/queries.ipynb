{
 "cells": [
  {
   "cell_type": "code",
   "execution_count": 1,
   "metadata": {},
   "outputs": [],
   "source": [
    "%defaultDatasource jdbc:h2:mem:db"
   ]
  },
  {
   "cell_type": "markdown",
   "metadata": {},
   "source": [
    "# Importando Dados e Criando Tabelas SQL"
   ]
  },
  {
   "cell_type": "code",
   "execution_count": 2,
   "metadata": {},
   "outputs": [],
   "source": [
    "DROP TABLE IF EXISTS Estado;\n",
    "DROP TABLE IF EXISTS Cidade;\n",
    "DROP TABLE IF EXISTS Aeroporto;\n",
    "DROP TABLE IF EXISTS Periodo;\n",
    "DROP TABLE IF EXISTS Rota;\n",
    "DROP TABLE IF EXISTS Voo;\n",
    "DROP TABLE IF EXISTS Casos;"
   ]
  },
  {
   "cell_type": "code",
   "execution_count": 3,
   "metadata": {},
   "outputs": [],
   "source": [
    "CREATE TABLE Estado\n",
    "(\n",
    "    UF VARCHAR(2) NOT NULL,\n",
    "    Nome VARCHAR(40) NOT NULL,\n",
    "    PRIMARY KEY(UF)\n",
    ")\n",
    "AS SELECT UF,Nome FROM CSVREAD('https://raw.githubusercontent.com/Desnord/ProjetoFinalMC536/main/stage04/data/processed/estado.csv');"
   ]
  },
  {
   "cell_type": "code",
   "execution_count": 4,
   "metadata": {},
   "outputs": [],
   "source": [
    "CREATE TABLE Cidade\n",
    "(\n",
    "  Estado VARCHAR(2) NOT NULL,\n",
    "  Nome VARCHAR(40) NOT NULL,\n",
    "  CONSTRAINT PK_Cidade PRIMARY KEY (Nome,Estado),\n",
    "  FOREIGN KEY(Estado) REFERENCES Estado(UF)\n",
    ") \n",
    "AS SELECT Estado,Nome FROM CSVREAD('https://raw.githubusercontent.com/Desnord/ProjetoFinalMC536/main/stage04/data/processed/cidadeFINAL.csv');"
   ]
  },
  {
   "cell_type": "code",
   "execution_count": 5,
   "metadata": {},
   "outputs": [],
   "source": [
    "CREATE TABLE Aeroporto\n",
    "(\n",
    "  Sigla VARCHAR(4) NOT NULL,\n",
    "  Descricao VARCHAR(80) NOT NULL,\n",
    "  Cidade VARCHAR(40) NOT NULL,\n",
    "  PRIMARY KEY(Sigla)\n",
    ") AS SELECT Sigla,Descricao,Cidade FROM CSVREAD('https://raw.githubusercontent.com/Desnord/ProjetoFinalMC536/main/stage04/data/processed/aeroportoFINAL.csv');"
   ]
  },
  {
   "cell_type": "code",
   "execution_count": 6,
   "metadata": {},
   "outputs": [],
   "source": [
    "CREATE TABLE Periodo\n",
    "(\n",
    "  Id INT NOT NULL,\n",
    "  Semana INT NOT NULL,\n",
    "  Ano INT NOT NULL,\n",
    "  PRIMARY KEY(Id,Semana,Ano)\n",
    ") AS SELECT Id,Semana,Ano FROM CSVREAD('https://raw.githubusercontent.com/Desnord/ProjetoFinalMC536/main/stage04/data/processed/periodo.csv');"
   ]
  },
  {
   "cell_type": "code",
   "execution_count": 7,
   "metadata": {},
   "outputs": [],
   "source": [
    "CREATE TABLE Rota\n",
    "(\n",
    "  Id INT NOT NULL,\n",
    "  Origem VARCHAR(4) NOT NULL,\n",
    "  Destino VARCHAR(4) NOT NULL,\n",
    "  VoosTotais INT NOT NULL,\n",
    "  PRIMARY KEY(Id),\n",
    "  FOREIGN KEY(Origem) REFERENCES Aeroporto(Sigla),\n",
    "  FOREIGN KEY(Destino) REFERENCES Aeroporto(Sigla)\n",
    ") AS SELECT Id,Origem,Destino,VoosTotais FROM CSVREAD('https://raw.githubusercontent.com/Desnord/ProjetoFinalMC536/main/stage04/data/processed/rota.csv')"
   ]
  },
  {
   "cell_type": "code",
   "execution_count": 8,
   "metadata": {},
   "outputs": [],
   "source": [
    "CREATE TABLE Voo\n",
    "(\n",
    "  Rota INT NOT NULL,\n",
    "  Periodo INT NOT NULL,\n",
    "  Quantidade INT NOT NULL,\n",
    "  CONSTRAINT PK_Rota PRIMARY KEY (Rota,Periodo),\n",
    "  FOREIGN KEY(Rota) REFERENCES Rota(Id),\n",
    "  FOREIGN KEY(Periodo) REFERENCES Periodo(Id)\n",
    ") AS SELECT Rota,Periodo,Quantidade FROM CSVREAD('https://raw.githubusercontent.com/Desnord/ProjetoFinalMC536/main/stage04/data/processed/voo.csv');"
   ]
  },
  {
   "cell_type": "code",
   "execution_count": 9,
   "metadata": {},
   "outputs": [],
   "source": [
    "CREATE TABLE Casos\n",
    "(\n",
    "  Estado VARCHAR(40) NOT NULL,\n",
    "  Periodo INT NOT NULL,\n",
    "  NumCasos INT NOT NULL,\n",
    "  CONSTRAINT PK_Casos PRIMARY KEY (Estado,Periodo),\n",
    "  FOREIGN KEY(Periodo) REFERENCES Periodo(Id),\n",
    "  FOREIGN KEY(Estado) REFERENCES Estado(Nome)\n",
    ") AS SELECT Estado,Periodo,NumCasos FROM CSVREAD('https://raw.githubusercontent.com/Desnord/ProjetoFinalMC536/main/stage04/data/processed/casosFINAL.csv');"
   ]
  },
  {
   "cell_type": "markdown",
   "metadata": {},
   "source": [
    "# total de casos de gripe por estado, entre 2010 e 2019"
   ]
  },
  {
   "cell_type": "code",
   "execution_count": 10,
   "metadata": {},
   "outputs": [
    {
     "data": {
      "application/vnd.jupyter.widget-view+json": {
       "model_id": "fbb855ad-4fa4-48e3-b62b-7977284309ea",
       "version_major": 2,
       "version_minor": 0
      },
      "method": "display_data"
     },
     "metadata": {},
     "output_type": "display_data"
    }
   ],
   "source": [
    "select Estado, SUM(NumCasos) TotalDeCasos\n",
    "from Casos\n",
    "group by Estado;"
   ]
  },
  {
   "cell_type": "markdown",
   "metadata": {},
   "source": [
    "# todos os aeroportos de algum estado (no caso SP)"
   ]
  },
  {
   "cell_type": "code",
   "execution_count": 11,
   "metadata": {},
   "outputs": [
    {
     "data": {
      "application/vnd.jupyter.widget-view+json": {
       "model_id": "535a88d1-b919-4e25-af15-f5bec5599042",
       "version_major": 2,
       "version_minor": 0
      },
      "method": "display_data"
     },
     "metadata": {},
     "output_type": "display_data"
    }
   ],
   "source": [
    "select a.sigla, c.Estado\n",
    "from Aeroporto a, Cidade c\n",
    "where a.Cidade = c.Nome and c.Estado = 'SP';"
   ]
  },
  {
   "cell_type": "markdown",
   "metadata": {},
   "source": [
    "# todas as rotas de algum estado (no caso SP)"
   ]
  },
  {
   "cell_type": "code",
   "execution_count": 12,
   "metadata": {},
   "outputs": [
    {
     "data": {
      "application/vnd.jupyter.widget-view+json": {
       "model_id": "81975ef1-90f3-44bc-a4ba-c0295faacc25",
       "version_major": 2,
       "version_minor": 0
      },
      "method": "display_data"
     },
     "metadata": {},
     "output_type": "display_data"
    }
   ],
   "source": [
    "select r.Id, a.sigla, c.Estado\n",
    "from Rota r, Aeroporto a, Cidade c\n",
    "where a.Cidade = c.Nome and c.Estado = 'SP' and r.Destino = a.Sigla;"
   ]
  },
  {
   "cell_type": "markdown",
   "metadata": {},
   "source": [
    "# estados do destino de cada rota"
   ]
  },
  {
   "cell_type": "code",
   "execution_count": 13,
   "metadata": {},
   "outputs": [
    {
     "data": {
      "application/vnd.jupyter.widget-view+json": {
       "model_id": "863d400d-89df-4ae7-b84b-278567db04d4",
       "version_major": 2,
       "version_minor": 0
      },
      "method": "display_data"
     },
     "metadata": {},
     "output_type": "display_data"
    }
   ],
   "source": [
    "select r.Id, r.Destino, c.Estado\n",
    "from Rota r, Aeroporto a, Cidade c\n",
    "where r.Destino = a.Sigla and a.Cidade = c.Nome;"
   ]
  },
  {
   "cell_type": "markdown",
   "metadata": {},
   "source": [
    "# cria duas views para auxiliar nas próximas seleções"
   ]
  },
  {
   "cell_type": "code",
   "execution_count": 14,
   "metadata": {},
   "outputs": [
    {
     "data": {
      "application/vnd.jupyter.widget-view+json": {
       "model_id": "f9a6fd66-4d6d-4419-a3b7-fa74b6cbee31",
       "version_major": 2,
       "version_minor": 0
      },
      "method": "display_data"
     },
     "metadata": {},
     "output_type": "display_data"
    },
    {
     "data": {
      "application/vnd.jupyter.widget-view+json": {
       "model_id": "1e247402-30b4-4d37-9713-115d4610fd38",
       "version_major": 2,
       "version_minor": 0
      },
      "method": "display_data"
     },
     "metadata": {},
     "output_type": "display_data"
    }
   ],
   "source": [
    "drop view RotaCidadeDestino if exists;\n",
    "drop view EstadoPeriodos if exists;\n",
    "\n",
    "create view RotaCidadeDestino as \n",
    "select r.Id rota, r.Destino destino, c.Estado estado\n",
    "from Rota r, Aeroporto a, Cidade c\n",
    "where r.Destino = a.Sigla and a.Cidade = c.Nome;\n",
    "  \n",
    "select * from RotaCidadeDestino;\n",
    "\n",
    "create view EstadoPeriodos as\n",
    "select e.UF estado,p.Id periodo\n",
    "from Estado e, Periodo p;\n",
    "\n",
    "select * from EstadoPeriodos;"
   ]
  },
  {
   "cell_type": "markdown",
   "metadata": {},
   "source": [
    "# voos e seus estados"
   ]
  },
  {
   "cell_type": "code",
   "execution_count": 15,
   "metadata": {},
   "outputs": [
    {
     "data": {
      "application/vnd.jupyter.widget-view+json": {
       "model_id": "4864771d-0ed0-4aa6-b1e8-61c6f8757089",
       "version_major": 2,
       "version_minor": 0
      },
      "method": "display_data"
     },
     "metadata": {},
     "output_type": "display_data"
    }
   ],
   "source": [
    "select v.Rota,v.Quantidade,v.Periodo, rcd.Estado\n",
    "from RotaCidadeDestino rcd, Voo v\n",
    "where rcd.Rota = v.Rota;"
   ]
  },
  {
   "cell_type": "markdown",
   "metadata": {},
   "source": [
    "# total de voos por periodo, em cada estado (porém faltam os periodos que nao tem nenhum voo)"
   ]
  },
  {
   "cell_type": "code",
   "execution_count": 16,
   "metadata": {},
   "outputs": [
    {
     "data": {
      "application/vnd.jupyter.widget-view+json": {
       "model_id": "a5d1697d-6def-45b3-b974-58f28b6fcc93",
       "version_major": 2,
       "version_minor": 0
      },
      "method": "display_data"
     },
     "metadata": {},
     "output_type": "display_data"
    }
   ],
   "source": [
    "select rcd.Estado,v.Periodo,count(v.Quantidade)\n",
    "from RotaCidadeDestino rcd, Voo v\n",
    "where rcd.Rota = v.Rota\n",
    "group by rcd.Estado,v.Periodo\n",
    "order by rcd.Estado,v.Periodo;"
   ]
  },
  {
   "cell_type": "markdown",
   "metadata": {},
   "source": [
    "# cria outra view auxiliar"
   ]
  },
  {
   "cell_type": "code",
   "execution_count": 17,
   "metadata": {},
   "outputs": [],
   "source": [
    "drop view VoosEstadoIncompleto if exists;\n",
    "\n",
    "create view VoosEstadoIncompleto as\n",
    "    select rcd.Estado estado,v.Periodo periodo,SUM(v.Quantidade) qtd\n",
    "    from RotaCidadeDestino rcd, Voo v\n",
    "    where rcd.Rota = v.Rota\n",
    "    group by rcd.Estado,v.Periodo\n",
    "    order by rcd.Estado,v.Periodo;"
   ]
  },
  {
   "cell_type": "markdown",
   "metadata": {},
   "source": [
    "# para todo estado, mostra a quantidade de voos naquele periodo"
   ]
  },
  {
   "cell_type": "code",
   "execution_count": 18,
   "metadata": {},
   "outputs": [
    {
     "data": {
      "application/vnd.jupyter.widget-view+json": {
       "model_id": "4b479e61-df20-44e1-a510-6d7fbd2503f4",
       "version_major": 2,
       "version_minor": 0
      },
      "method": "display_data"
     },
     "metadata": {},
     "output_type": "display_data"
    }
   ],
   "source": [
    "SELECT ep.estado, ep.periodo, coalesce(vei.qtd, 0) as qtd\n",
    "FROM EstadoPeriodos as ep\n",
    "LEFT JOIN VoosEstadoIncompleto as vei\n",
    "on vei.periodo = ep.periodo and vei.estado = ep.estado;"
   ]
  },
  {
   "cell_type": "markdown",
   "metadata": {},
   "source": [
    "# adiciona número do casos ao select anterior"
   ]
  },
  {
   "cell_type": "code",
   "execution_count": 19,
   "metadata": {},
   "outputs": [],
   "source": [
    "drop view EstadoVoosPeriodoCasos if exists;\n",
    "\n",
    "create view EstadoVoosPeriodoCasos as\n",
    "    SELECT ep.estado, ep.periodo, coalesce(vei.qtd, 0) as qtd\n",
    "    FROM EstadoPeriodos as ep\n",
    "    LEFT JOIN VoosEstadoIncompleto as vei\n",
    "    on vei.periodo = ep.periodo and vei.estado = ep.estado;"
   ]
  },
  {
   "cell_type": "code",
   "execution_count": 20,
   "metadata": {},
   "outputs": [],
   "source": [
    "drop view auxiliar if exists;\n",
    "create view auxiliar as\n",
    "    select e.UF estado,c.numCasos casos,c.Periodo periodo\n",
    "    from Casos c, Estado e \n",
    "    where e.Nome = c.Estado;"
   ]
  },
  {
   "cell_type": "code",
   "execution_count": 25,
   "metadata": {},
   "outputs": [
    {
     "data": {
      "application/vnd.jupyter.widget-view+json": {
       "model_id": "7bb5f6e9-a141-4b2a-a296-d89594155c77",
       "version_major": 2,
       "version_minor": 0
      },
      "method": "display_data"
     },
     "metadata": {},
     "output_type": "display_data"
    }
   ],
   "source": [
    "select evpc.estado,evpc.periodo,evpc.qtd voos,aux.casos\n",
    "from EstadoVoosPeriodoCasos evpc, auxiliar aux\n",
    "where aux.estado = evpc.estado and evpc.periodo = aux.periodo;"
   ]
  },
  {
   "cell_type": "markdown",
   "metadata": {},
   "source": [
    "# tranforma periodo em ano e semana"
   ]
  },
  {
   "cell_type": "code",
   "execution_count": 29,
   "metadata": {},
   "outputs": [],
   "source": [
    "drop view auxiliar2 if exists;\n",
    "\n",
    "create view auxiliar2 as\n",
    "select evpc.estado,evpc.periodo,evpc.qtd voos,aux.casos\n",
    "from EstadoVoosPeriodoCasos evpc, auxiliar aux\n",
    "where aux.estado = evpc.estado and evpc.periodo = aux.periodo;"
   ]
  },
  {
   "cell_type": "code",
   "execution_count": 31,
   "metadata": {},
   "outputs": [
    {
     "data": {
      "application/vnd.jupyter.widget-view+json": {
       "model_id": "23d2dd13-02d6-4167-a05a-707e0a7d4cf8",
       "version_major": 2,
       "version_minor": 0
      },
      "method": "display_data"
     },
     "metadata": {},
     "output_type": "display_data"
    }
   ],
   "source": [
    "select aux.estado,p.semana,p.ano,aux.voos,aux.casos\n",
    "from Periodo p, auxiliar2 aux\n",
    "where aux.Periodo = p.Id;"
   ]
  },
  {
   "cell_type": "code",
   "execution_count": null,
   "metadata": {},
   "outputs": [],
   "source": []
  }
 ],
 "metadata": {
  "kernelspec": {
   "display_name": "SQL",
   "language": "SQL",
   "name": "sql"
  },
  "language_info": {
   "codemirror_mode": "sql",
   "file_extension": ".sql",
   "mimetype": "",
   "name": "SQL",
   "nbconverter_exporter": "",
   "version": ""
  },
  "toc": {
   "base_numbering": 1,
   "nav_menu": {},
   "number_sections": false,
   "sideBar": false,
   "skip_h1_title": false,
   "title_cell": "Table of Contents",
   "title_sidebar": "Contents",
   "toc_cell": false,
   "toc_position": {},
   "toc_section_display": false,
   "toc_window_display": false
  }
 },
 "nbformat": 4,
 "nbformat_minor": 4
}
