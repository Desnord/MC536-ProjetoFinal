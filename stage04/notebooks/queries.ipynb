{
 "cells": [
  {
   "cell_type": "code",
   "execution_count": null,
   "metadata": {},
   "outputs": [],
   "source": [
    "%defaultDatasource jdbc:h2:mem:db"
   ]
  },
  {
   "cell_type": "markdown",
   "metadata": {},
   "source": [
    "# Importando Dados e Criando Tabelas SQL"
   ]
  },
  {
   "cell_type": "code",
   "execution_count": null,
   "metadata": {},
   "outputs": [],
   "source": [
    "DROP TABLE IF EXISTS Estado;\n",
    "DROP TABLE IF EXISTS Cidade;\n",
    "DROP TABLE IF EXISTS Aeroporto;\n",
    "DROP TABLE IF EXISTS Periodo;\n",
    "DROP TABLE IF EXISTS Rota;\n",
    "DROP TABLE IF EXISTS Voo;\n",
    "DROP TABLE IF EXISTS Casos;"
   ]
  },
  {
   "cell_type": "code",
   "execution_count": null,
   "metadata": {},
   "outputs": [],
   "source": [
    "CREATE TABLE Estado\n",
    "(\n",
    "    UF VARCHAR(2) NOT NULL,\n",
    "    Nome VARCHAR(40) NOT NULL,\n",
    "    PRIMARY KEY(UF)\n",
    ")\n",
    "AS SELECT UF,Nome FROM CSVREAD('https://raw.githubusercontent.com/Desnord/ProjetoFinalMC536/main/stage04/data/processed/estado.csv');"
   ]
  },
  {
   "cell_type": "code",
   "execution_count": null,
   "metadata": {},
   "outputs": [],
   "source": [
    "CREATE TABLE Cidade\n",
    "(\n",
    "  Estado VARCHAR(2) NOT NULL,\n",
    "  Nome VARCHAR(40) NOT NULL,\n",
    "  CONSTRAINT PK_Cidade PRIMARY KEY (Nome,Estado),\n",
    "  FOREIGN KEY(Estado) REFERENCES Estado(UF)\n",
    ") \n",
    "AS SELECT Estado,Nome FROM CSVREAD('https://raw.githubusercontent.com/Desnord/ProjetoFinalMC536/main/stage04/data/processed/cidadeFINAL.csv');"
   ]
  },
  {
   "cell_type": "code",
   "execution_count": null,
   "metadata": {},
   "outputs": [],
   "source": [
    "CREATE TABLE Aeroporto\n",
    "(\n",
    "  Sigla VARCHAR(4) NOT NULL,\n",
    "  Descricao VARCHAR(80) NOT NULL,\n",
    "  Cidade VARCHAR(40) NOT NULL,\n",
    "  PRIMARY KEY(Sigla)\n",
    ") AS SELECT Sigla,Descricao,Cidade FROM CSVREAD('https://raw.githubusercontent.com/Desnord/ProjetoFinalMC536/main/stage04/data/processed/aeroportoFINAL.csv');"
   ]
  },
  {
   "cell_type": "code",
   "execution_count": null,
   "metadata": {},
   "outputs": [],
   "source": [
    "CREATE TABLE Periodo\n",
    "(\n",
    "  Id INT NOT NULL,\n",
    "  Semana INT NOT NULL,\n",
    "  Ano INT NOT NULL,\n",
    "  PRIMARY KEY(Id,Semana,Ano)\n",
    ") AS SELECT Id,Semana,Ano FROM CSVREAD('https://raw.githubusercontent.com/Desnord/ProjetoFinalMC536/main/stage04/data/processed/periodo.csv');"
   ]
  },
  {
   "cell_type": "code",
   "execution_count": null,
   "metadata": {},
   "outputs": [],
   "source": [
    "CREATE TABLE Rota\n",
    "(\n",
    "  Id INT NOT NULL,\n",
    "  Origem VARCHAR(4) NOT NULL,\n",
    "  Destino VARCHAR(4) NOT NULL,\n",
    "  VoosTotais INT NOT NULL,\n",
    "  PRIMARY KEY(Id),\n",
    "  FOREIGN KEY(Origem) REFERENCES Aeroporto(Sigla),\n",
    "  FOREIGN KEY(Destino) REFERENCES Aeroporto(Sigla)\n",
    ") AS SELECT Id,Origem,Destino,VoosTotais FROM CSVREAD('https://raw.githubusercontent.com/Desnord/ProjetoFinalMC536/main/stage04/data/processed/rota.csv')"
   ]
  },
  {
   "cell_type": "code",
   "execution_count": null,
   "metadata": {},
   "outputs": [],
   "source": [
    "CREATE TABLE Voo\n",
    "(\n",
    "  Rota INT NOT NULL,\n",
    "  Periodo INT NOT NULL,\n",
    "  Quantidade INT NOT NULL,\n",
    "  CONSTRAINT PK_Rota PRIMARY KEY (Rota,Periodo),\n",
    "  FOREIGN KEY(Rota) REFERENCES Rota(Id),\n",
    "  FOREIGN KEY(Periodo) REFERENCES Periodo(Id)\n",
    ") AS SELECT Rota,Periodo,Quantidade FROM CSVREAD('https://raw.githubusercontent.com/Desnord/ProjetoFinalMC536/main/stage04/data/processed/voo.csv');"
   ]
  },
  {
   "cell_type": "code",
   "execution_count": null,
   "metadata": {},
   "outputs": [],
   "source": [
    "CREATE TABLE Casos\n",
    "(\n",
    "  Estado VARCHAR(40) NOT NULL,\n",
    "  Periodo INT NOT NULL,\n",
    "  NumCasos INT NOT NULL,\n",
    "  CONSTRAINT PK_Casos PRIMARY KEY (Estado,Periodo),\n",
    "  FOREIGN KEY(Periodo) REFERENCES Periodo(Id),\n",
    "  FOREIGN KEY(Estado) REFERENCES Estado(Nome)\n",
    ") AS SELECT Estado,Periodo,NumCasos FROM CSVREAD('https://raw.githubusercontent.com/Desnord/ProjetoFinalMC536/main/stage04/data/processed/casosFINAL.csv');"
   ]
  },
  {
   "cell_type": "markdown",
   "metadata": {},
   "source": [
    "# total de casos de gripe por estado, entre 2010 e 2019"
   ]
  },
  {
   "cell_type": "code",
   "execution_count": null,
   "metadata": {},
   "outputs": [],
   "source": [
    "select Estado, SUM(NumCasos) TotalDeCasos\n",
    "from Casos\n",
    "group by Estado;"
   ]
  },
  {
   "cell_type": "markdown",
   "metadata": {},
   "source": [
    "# todos os aeroportos de algum estado (no caso SP)"
   ]
  },
  {
   "cell_type": "code",
   "execution_count": null,
   "metadata": {},
   "outputs": [],
   "source": [
    "select a.sigla, c.Estado\n",
    "from Aeroporto a, Cidade c\n",
    "where a.Cidade = c.Nome and c.Estado = 'SP';"
   ]
  },
  {
   "cell_type": "markdown",
   "metadata": {},
   "source": [
    "# todas as rotas de algum estado (no caso SP)"
   ]
  },
  {
   "cell_type": "code",
   "execution_count": null,
   "metadata": {},
   "outputs": [],
   "source": [
    "select r.Id, a.sigla, c.Estado\n",
    "from Rota r, Aeroporto a, Cidade c\n",
    "where a.Cidade = c.Nome and c.Estado = 'SP' and r.Destino = a.Sigla;"
   ]
  },
  {
   "cell_type": "markdown",
   "metadata": {},
   "source": [
    "# total de voos chegando em algum estado, por cada periodo"
   ]
  },
  {
   "cell_type": "code",
   "execution_count": 110,
   "metadata": {},
   "outputs": [
    {
     "data": {
      "application/vnd.jupyter.widget-view+json": {
       "model_id": "cdf95531-7112-4e02-9bbd-0299a9b7d04d",
       "version_major": 2,
       "version_minor": 0
      },
      "method": "display_data"
     },
     "metadata": {},
     "output_type": "display_data"
    }
   ],
   "source": [
    "select c.Estado, v.Periodo, SUM(v.Quantidade) total\n",
    "from Rota r, Aeroporto a, Cidade c, Voo v\n",
    "where v.Rota = r.Id and r.Destino = a.Sigla and a.Cidade = c.Nome\n",
    "group by v.Periodo,c.Estado;"
   ]
  },
  {
   "cell_type": "code",
   "execution_count": null,
   "metadata": {},
   "outputs": [],
   "source": []
  }
 ],
 "metadata": {
  "kernelspec": {
   "display_name": "SQL",
   "language": "SQL",
   "name": "sql"
  },
  "language_info": {
   "codemirror_mode": "sql",
   "file_extension": ".sql",
   "mimetype": "",
   "name": "SQL",
   "nbconverter_exporter": "",
   "version": ""
  }
 },
 "nbformat": 4,
 "nbformat_minor": 4
}
